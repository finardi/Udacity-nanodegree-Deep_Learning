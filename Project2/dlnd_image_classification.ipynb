{
 "cells": [
  {
   "cell_type": "code",
   "execution_count": 1,
   "metadata": {
    "collapsed": false,
    "deletable": true,
    "editable": true
   },
   "outputs": [
    {
     "name": "stderr",
     "output_type": "stream",
     "text": [
      "CIFAR-10 Dataset: 171MB [00:27, 6.28MB/s]                              \n"
     ]
    },
    {
     "name": "stdout",
     "output_type": "stream",
     "text": [
      "All files found!\n"
     ]
    }
   ],
   "source": [
    "\"\"\"\n",
    "DON'T MODIFY ANYTHING IN THIS CELL THAT IS BELOW THIS LINE\n",
    "\"\"\"\n",
    "from urllib.request import urlretrieve\n",
    "from os.path import isfile, isdir\n",
    "from tqdm import tqdm\n",
    "import problem_unittests as tests\n",
    "import tarfile\n",
    "\n",
    "cifar10_dataset_folder_path = 'cifar-10-batches-py'\n",
    "\n",
    "# Use Floyd's cifar-10 dataset if present\n",
    "floyd_cifar10_location = '/input/cifar-10/python.tar.gz'\n",
    "if isfile(floyd_cifar10_location):\n",
    "    tar_gz_path = floyd_cifar10_location\n",
    "else:\n",
    "    tar_gz_path = 'cifar-10-python.tar.gz'\n",
    "\n",
    "class DLProgress(tqdm):\n",
    "    last_block = 0\n",
    "\n",
    "    def hook(self, block_num=1, block_size=1, total_size=None):\n",
    "        self.total = total_size\n",
    "        self.update((block_num - self.last_block) * block_size)\n",
    "        self.last_block = block_num\n",
    "\n",
    "if not isfile(tar_gz_path):\n",
    "    with DLProgress(unit='B', unit_scale=True, miniters=1, desc='CIFAR-10 Dataset') as pbar:\n",
    "        urlretrieve(\n",
    "            'https://www.cs.toronto.edu/~kriz/cifar-10-python.tar.gz',\n",
    "            tar_gz_path,\n",
    "            pbar.hook)\n",
    "\n",
    "if not isdir(cifar10_dataset_folder_path):\n",
    "    with tarfile.open(tar_gz_path) as tar:\n",
    "        tar.extractall()\n",
    "        tar.close()\n",
    "\n",
    "\n",
    "tests.test_folder_path(cifar10_dataset_folder_path)"
   ]
  },
  {
   "cell_type": "code",
   "execution_count": 2,
   "metadata": {
    "collapsed": false,
    "deletable": true,
    "editable": true
   },
   "outputs": [
    {
     "name": "stdout",
     "output_type": "stream",
     "text": [
      "\n",
      "Stats of batch 1:\n",
      "Samples: 10000\n",
      "Label Counts: {0: 1005, 1: 974, 2: 1032, 3: 1016, 4: 999, 5: 937, 6: 1030, 7: 1001, 8: 1025, 9: 981}\n",
      "First 20 Labels: [6, 9, 9, 4, 1, 1, 2, 7, 8, 3, 4, 7, 7, 2, 9, 9, 9, 3, 2, 6]\n",
      "\n",
      "Example of Image 5:\n",
      "Image - Min Value: 0 Max Value: 252\n",
      "Image - Shape: (32, 32, 3)\n",
      "Label - Label Id: 1 Name: automobile\n"
     ]
    },
    {
     "data": {
      "image/png": "[encoded data removed]",
      "text/plain": [
       "<matplotlib.figure.Figure at 0x7f6446566208>"
      ]
     },
     "metadata": {
      "image/png": {
       "height": 250,
       "width": 253
      }
     },
     "output_type": "display_data"
    }
   ],
   "source": [
    "%matplotlib inline\n",
    "%config InlineBackend.figure_format = 'retina'\n",
    "\n",
    "import helper\n",
    "import numpy as np\n",
    "\n",
    "# Explore the dataset\n",
    "batch_id = 1\n",
    "sample_id = 5\n",
    "helper.display_stats(cifar10_dataset_folder_path, batch_id, sample_id)"
   ]
  },
  {
   "cell_type": "code",
   "execution_count": 3,
   "metadata": {
    "collapsed": false,
    "deletable": true,
    "editable": true
   },
   "outputs": [
    {
     "name": "stdout",
     "output_type": "stream",
     "text": [
      "Tests Passed\n"
     ]
    }
   ],
   "source": [
    "import numpy as np\n",
    "def normalize(x):\n",
    "    \"\"\"\n",
    "    Normalize a list of sample image data in the range of 0 to 1\n",
    "    : x: List of image data.  The image shape is (32, 32, 3)\n",
    "    : return: Numpy array of normalize data\n",
    "    \"\"\"\n",
    "    return x/255\n",
    "\"\"\"\n",
    "DON'T MODIFY ANYTHING IN THIS CELL THAT IS BELOW THIS LINE\n",
    "\"\"\"\n",
    "tests.test_normalize(normalize)"
   ]
  },
  {
   "cell_type": "code",
   "execution_count": 4,
   "metadata": {
    "collapsed": false,
    "deletable": true,
    "editable": true
   },
   "outputs": [
    {
     "name": "stdout",
     "output_type": "stream",
     "text": [
      "Tests Passed\n"
     ]
    }
   ],
   "source": [
    "map = np.eye(10)\n",
    "\n",
    "def one_hot_encode(x):\n",
    "    \"\"\"\n",
    "    One hot encode a list of sample labels. Return a one-hot encoded vector for each label.\n",
    "    : x: List of sample Labels\n",
    "    : return: Numpy array of one-hot encoded labels\n",
    "    \"\"\"\n",
    "    return np.vstack([map[_,:] for _ in x])\n",
    "\n",
    "\"\"\"\n",
    "DON'T MODIFY ANYTHING IN THIS CELL THAT IS BELOW THIS LINE\n",
    "\"\"\"\n",
    "tests.test_one_hot_encode(one_hot_encode)"
   ]
  },
  {
   "cell_type": "code",
   "execution_count": 5,
   "metadata": {
    "collapsed": true
   },
   "outputs": [],
   "source": [
    "\"\"\"\n",
    "DON'T MODIFY ANYTHING IN THIS CELL\n",
    "\"\"\"\n",
    "# Preprocess Training, Validation, and Testing Data\n",
    "helper.preprocess_and_save_data(cifar10_dataset_folder_path, normalize, one_hot_encode)"
   ]
  },
  {
   "cell_type": "code",
   "execution_count": 6,
   "metadata": {
    "collapsed": true
   },
   "outputs": [],
   "source": [
    "\"\"\"\n",
    "DON'T MODIFY ANYTHING IN THIS CELL\n",
    "\"\"\"\n",
    "import pickle\n",
    "import problem_unittests as tests\n",
    "import helper\n",
    "\n",
    "# Load the Preprocessed Validation data\n",
    "valid_features, valid_labels = pickle.load(open('preprocess_validation.p', mode='rb'))"
   ]
  },
  {
   "cell_type": "code",
   "execution_count": 7,
   "metadata": {
    "collapsed": false
   },
   "outputs": [
    {
     "name": "stdout",
     "output_type": "stream",
     "text": [
      "Image Input Tests Passed.\n",
      "Label Input Tests Passed.\n",
      "Keep Prob Tests Passed.\n"
     ]
    }
   ],
   "source": [
    "import tensorflow as tf\n",
    "\n",
    "def neural_net_image_input(image_shape):\n",
    "    \"\"\"\n",
    "    Return a Tensor for a batch of image input\n",
    "    : image_shape: Shape of the images\n",
    "    : return: Tensor for image input.\n",
    "    \"\"\"\n",
    "    return tf.placeholder(tf.float32, shape=(None, *image_shape), name='x')\n",
    "\n",
    "def neural_net_label_input(n_classes):\n",
    "    \"\"\"\n",
    "    Return a Tensor for a batch of label input\n",
    "    : n_classes: Number of classes\n",
    "    : return: Tensor for label input.\n",
    "    \"\"\"\n",
    "    return tf.placeholder(tf.float32, shape=(None, n_classes), name='y')\n",
    "\n",
    "def neural_net_keep_prob_input():\n",
    "    \"\"\"\n",
    "    Return a Tensor for keep probability\n",
    "    : return: Tensor for keep probability.\n",
    "    \"\"\"\n",
    "    return tf.placeholder(tf.float32, name='keep_prob')\n",
    "\n",
    "\"\"\"\n",
    "DON'T MODIFY ANYTHING IN THIS CELL THAT IS BELOW THIS LINE\n",
    "\"\"\"\n",
    "tf.reset_default_graph()\n",
    "tests.test_nn_image_inputs(neural_net_image_input)\n",
    "tests.test_nn_label_inputs(neural_net_label_input)\n",
    "tests.test_nn_keep_prob_inputs(neural_net_keep_prob_input)"
   ]
  },
  {
   "cell_type": "code",
   "execution_count": 8,
   "metadata": {
    "collapsed": false
   },
   "outputs": [
    {
     "name": "stdout",
     "output_type": "stream",
     "text": [
      "Tests Passed\n"
     ]
    }
   ],
   "source": [
    "MEAN_INIT = 0.001\n",
    "STDDEV_INIT = 0.05\n",
    "\n",
    "def conv2d_maxpool(x_tensor, conv_num_outputs, conv_ksize, conv_strides, pool_ksize, pool_strides):\n",
    "    \"\"\"\n",
    "    Apply convolution then max pooling to x_tensor\n",
    "    :param x_tensor: TensorFlow Tensor\n",
    "    :param conv_num_outputs: Number of outputs for the convolutional layer\n",
    "    :param conv_strides: Stride 2-D Tuple for convolution\n",
    "    :param pool_ksize: kernel size 2-D Tuple for pool\n",
    "    :param pool_strides: Stride 2-D Tuple for pool\n",
    "    :return: A tensor that represents convolution and max pooling of x_tensor\n",
    "    \"\"\"\n",
    "    x_batch, x_height, x_width, x_depth = x_tensor.shape\n",
    "    filter_weights = tf.Variable(tf.truncated_normal(mean=MEAN_INIT, stddev=STDDEV_INIT, shape=[*conv_ksize, x_depth.value, conv_num_outputs]))\n",
    "    bias = tf.Variable(tf.truncated_normal(mean=MEAN_INIT, stddev=STDDEV_INIT, shape=[conv_num_outputs]))\n",
    "    x_tensor = tf.nn.conv2d(x_tensor, filter_weights, strides=[1, *conv_strides, 1], padding='SAME')\n",
    "    x_tensor = tf.nn.bias_add(x_tensor, bias)\n",
    "    x_tensor = tf.nn.relu(x_tensor)\n",
    "    x_tensor = tf.nn.max_pool(x_tensor, ksize=[1, *pool_ksize, 1], strides=[1, *pool_strides, 1], padding='SAME')\n",
    "    return x_tensor\n",
    "\n",
    "\"\"\"\n",
    "DON'T MODIFY ANYTHING IN THIS CELL THAT IS BELOW THIS LINE\n",
    "\"\"\"\n",
    "tests.test_con_pool(conv2d_maxpool)"
   ]
  },
  {
   "cell_type": "code",
   "execution_count": 9,
   "metadata": {
    "collapsed": false
   },
   "outputs": [
    {
     "name": "stdout",
     "output_type": "stream",
     "text": [
      "Tests Passed\n"
     ]
    }
   ],
   "source": [
    "from functools import reduce\n",
    "\n",
    "def flatten(x_tensor):\n",
    "    \"\"\"\n",
    "    Flatten x_tensor to (Batch Size, Flattened Image Size)\n",
    "    : x_tensor: A tensor of size (Batch Size, ...), where ... are the image dimensions.\n",
    "    : return: A tensor of size (Batch Size, Flattened Image Size).\n",
    "    \"\"\"\n",
    "    dim = reduce(lambda x, y: x*y, x_tensor.shape[1:])\n",
    "    return tf.reshape(x_tensor, [-1, dim.value])\n",
    "\n",
    "\n",
    "\"\"\"\n",
    "DON'T MODIFY ANYTHING IN THIS CELL THAT IS BELOW THIS LINE\n",
    "\"\"\"\n",
    "tests.test_flatten(flatten)"
   ]
  },
  {
   "cell_type": "code",
   "execution_count": 10,
   "metadata": {
    "collapsed": false
   },
   "outputs": [
    {
     "name": "stdout",
     "output_type": "stream",
     "text": [
      "Tests Passed\n"
     ]
    }
   ],
   "source": [
    "def fully_conn(x_tensor, num_outputs):\n",
    "    \"\"\"\n",
    "    Apply a fully connected layer to x_tensor using weight and bias\n",
    "    : x_tensor: A 2-D tensor where the first dimension is batch size.\n",
    "    : num_outputs: The number of output that the new tensor should be.\n",
    "    : return: A 2-D tensor where the second dimension is num_outputs.\n",
    "    \"\"\"\n",
    "    weights = tf.Variable(tf.truncated_normal(mean=MEAN_INIT, stddev=STDDEV_INIT, shape=[x_tensor.shape[1].value, num_outputs]))\n",
    "    bias = tf.Variable(tf.truncated_normal(mean=MEAN_INIT, stddev=STDDEV_INIT, shape=[num_outputs]))\n",
    "    return tf.nn.relu(tf.add(tf.matmul(x_tensor, weights), bias))\n",
    "\n",
    "\"\"\"\n",
    "DON'T MODIFY ANYTHING IN THIS CELL THAT IS BELOW THIS LINE\n",
    "\"\"\"\n",
    "tests.test_fully_conn(fully_conn)"
   ]
  },
  {
   "cell_type": "code",
   "execution_count": 11,
   "metadata": {
    "collapsed": false
   },
   "outputs": [
    {
     "name": "stdout",
     "output_type": "stream",
     "text": [
      "Tests Passed\n"
     ]
    }
   ],
   "source": [
    "def output(x_tensor, num_outputs):\n",
    "    \"\"\"\n",
    "    Apply a output layer to x_tensor using weight and bias\n",
    "    : x_tensor: A 2-D tensor where the first dimension is batch size.\n",
    "    : num_outputs: The number of output that the new tensor should be.\n",
    "    : return: A 2-D tensor where the second dimension is num_outputs.\n",
    "    \"\"\"\n",
    "    weights = tf.Variable(tf.truncated_normal(mean=MEAN_INIT, stddev=STDDEV_INIT, shape=[x_tensor.shape[1].value, num_outputs]))\n",
    "    bias = tf.Variable(tf.truncated_normal(mean=MEAN_INIT, stddev=STDDEV_INIT, shape=[num_outputs]))\n",
    "    return tf.add(tf.matmul(x_tensor, weights), bias)\n",
    "\n",
    "\"\"\"\n",
    "DON'T MODIFY ANYTHING IN THIS CELL THAT IS BELOW THIS LINE\n",
    "\"\"\"\n",
    "tests.test_output(output)"
   ]
  },
  {
   "cell_type": "code",
   "execution_count": 12,
   "metadata": {
    "collapsed": false
   },
   "outputs": [
    {
     "name": "stdout",
     "output_type": "stream",
     "text": [
      "Final shape is: 1024\n",
      "Final shape is: 1024\n",
      "Neural Network Built!\n"
     ]
    }
   ],
   "source": [
    "def conv_net(x, keep_prob):\n",
    "    \"\"\"\n",
    "    Create a convolutional neural network model\n",
    "    : x: Placeholder tensor that holds image data.\n",
    "    : keep_prob: Placeholder tensor that hold dropout keep probability.\n",
    "    : return: Tensor that represents logits\n",
    "    \"\"\"\n",
    "    x = conv2d_maxpool(x, 16, (5, 5), (1, 1), (2, 2), (2, 2))\n",
    "    x = conv2d_maxpool(x, 32, (5, 5), (1, 1), (2, 2), (2, 2))\n",
    "    x = conv2d_maxpool(x, 64, (5, 5), (1, 1), (2, 2), (2, 2))\n",
    "    x = flatten(x)\n",
    "    \n",
    "    print(\"Final shape is: {}\".format(x.shape[1]))\n",
    "    x = fully_conn(x, num_outputs=786)\n",
    "    x = fully_conn(x, num_outputs=786)\n",
    "    x = tf.nn.dropout(x, keep_prob)\n",
    "    x = output(x, num_outputs=10)\n",
    "    \n",
    "    return x\n",
    "\n",
    "\n",
    "\"\"\"\n",
    "DON'T MODIFY ANYTHING IN THIS CELL THAT IS BELOW THIS LINE\n",
    "\"\"\"\n",
    "\n",
    "##############################\n",
    "## Build the Neural Network ##\n",
    "##############################\n",
    "\n",
    "# Remove previous weights, bias, inputs, etc..\n",
    "tf.reset_default_graph()\n",
    "\n",
    "# Inputs\n",
    "x = neural_net_image_input((32, 32, 3))\n",
    "y = neural_net_label_input(10)\n",
    "keep_prob = neural_net_keep_prob_input()\n",
    "\n",
    "# Model\n",
    "logits = conv_net(x, keep_prob)\n",
    "\n",
    "# Name logits Tensor, so that is can be loaded from disk after training\n",
    "logits = tf.identity(logits, name='logits')\n",
    "\n",
    "# Loss and Optimizer\n",
    "cost = tf.reduce_mean(tf.nn.softmax_cross_entropy_with_logits(logits=logits, labels=y))\n",
    "optimizer = tf.train.AdamOptimizer().minimize(cost)\n",
    "\n",
    "# Accuracy\n",
    "correct_pred = tf.equal(tf.argmax(logits, 1), tf.argmax(y, 1))\n",
    "accuracy = tf.reduce_mean(tf.cast(correct_pred, tf.float32), name='accuracy')\n",
    "\n",
    "tests.test_conv_net(conv_net)"
   ]
  },
  {
   "cell_type": "code",
   "execution_count": 13,
   "metadata": {
    "collapsed": false
   },
   "outputs": [
    {
     "name": "stdout",
     "output_type": "stream",
     "text": [
      "Tests Passed\n"
     ]
    }
   ],
   "source": [
    "def train_neural_network(session, optimizer, keep_probability, feature_batch, label_batch):\n",
    "    \"\"\"\n",
    "    Optimize the session on a batch of images and labels\n",
    "    : session: Current TensorFlow session\n",
    "    : optimizer: TensorFlow optimizer function\n",
    "    : keep_probability: keep probability\n",
    "    : feature_batch: Batch of Numpy image data\n",
    "    : label_batch: Batch of Numpy label data\n",
    "    \"\"\"\n",
    "    feed_dict = {'keep_prob:0': keep_probability, 'x:0': feature_batch, 'y:0': label_batch}\n",
    "    session.run(optimizer, feed_dict=feed_dict)\n",
    "\n",
    "\"\"\"\n",
    "DON'T MODIFY ANYTHING IN THIS CELL THAT IS BELOW THIS LINE\n",
    "\"\"\"\n",
    "tests.test_train_nn(train_neural_network)"
   ]
  },
  {
   "cell_type": "code",
   "execution_count": 14,
   "metadata": {
    "collapsed": true
   },
   "outputs": [],
   "source": [
    "def print_stats(session, feature_batch, label_batch, cost, accuracy):\n",
    "    \"\"\"\n",
    "    Print information about loss and validation accuracy\n",
    "    : session: Current TensorFlow session\n",
    "    : feature_batch: Batch of Numpy image data\n",
    "    : label_batch: Batch of Numpy label data\n",
    "    : cost: TensorFlow cost function\n",
    "    : accuracy: TensorFlow accuracy function\n",
    "    \"\"\"\n",
    "    feed_cost = {'keep_prob:0': 1.0, 'x:0': feature_batch, 'y:0': label_batch}\n",
    "    feed_valid = {'keep_prob:0': 1.0, 'x:0': valid_features, 'y:0': valid_labels}\n",
    "    cost = session.run(cost, feed_dict=feed_cost)\n",
    "    accuracy = session.run(accuracy, feed_dict=feed_valid)\n",
    "    print(\"cost: {}, accuracy: {}\".format(cost, accuracy))"
   ]
  },
  {
   "cell_type": "code",
   "execution_count": 16,
   "metadata": {
    "collapsed": true
   },
   "outputs": [],
   "source": [
    "epochs = 50\n",
    "batch_size = 64\n",
    "keep_probability = 0.8"
   ]
  },
  {
   "cell_type": "code",
   "execution_count": 17,
   "metadata": {
    "collapsed": false
   },
   "outputs": [
    {
     "name": "stdout",
     "output_type": "stream",
     "text": [
      "Checking the Training on a Single Batch...\n",
      "Epoch  1, CIFAR-10 Batch 1:  cost: 2.009424924850464, accuracy: 0.3523999750614166\n",
      "Epoch  2, CIFAR-10 Batch 1:  cost: 1.761795997619629, accuracy: 0.42979997396469116\n",
      "Epoch  3, CIFAR-10 Batch 1:  cost: 1.5836334228515625, accuracy: 0.4753999710083008\n",
      "Epoch  4, CIFAR-10 Batch 1:  cost: 1.4252293109893799, accuracy: 0.49299997091293335\n",
      "Epoch  5, CIFAR-10 Batch 1:  cost: 1.1230236291885376, accuracy: 0.49039995670318604\n",
      "Epoch  6, CIFAR-10 Batch 1:  cost: 0.8896859288215637, accuracy: 0.5227999091148376\n",
      "Epoch  7, CIFAR-10 Batch 1:  cost: 0.8266783356666565, accuracy: 0.5077999234199524\n",
      "Epoch  8, CIFAR-10 Batch 1:  cost: 0.6698145866394043, accuracy: 0.5137999653816223\n",
      "Epoch  9, CIFAR-10 Batch 1:  cost: 0.5574707388877869, accuracy: 0.5017999410629272\n",
      "Epoch 10, CIFAR-10 Batch 1:  cost: 0.3947780728340149, accuracy: 0.5161999464035034\n",
      "Epoch 11, CIFAR-10 Batch 1:  cost: 0.3822922706604004, accuracy: 0.5357999801635742\n",
      "Epoch 12, CIFAR-10 Batch 1:  cost: 0.17091171443462372, accuracy: 0.512999951839447\n",
      "Epoch 13, CIFAR-10 Batch 1:  cost: 0.11108800768852234, accuracy: 0.5017999410629272\n",
      "Epoch 14, CIFAR-10 Batch 1:  cost: 0.15418978035449982, accuracy: 0.4975999593734741\n",
      "Epoch 15, CIFAR-10 Batch 1:  cost: 0.05417085438966751, accuracy: 0.5163999199867249\n",
      "Epoch 16, CIFAR-10 Batch 1:  cost: 0.043951887637376785, accuracy: 0.5225999355316162\n",
      "Epoch 17, CIFAR-10 Batch 1:  cost: 0.03199741244316101, accuracy: 0.5138000249862671\n",
      "Epoch 18, CIFAR-10 Batch 1:  cost: 0.09377307444810867, accuracy: 0.504599928855896\n",
      "Epoch 19, CIFAR-10 Batch 1:  cost: 0.010854330845177174, accuracy: 0.5013999938964844\n",
      "Epoch 20, CIFAR-10 Batch 1:  cost: 0.011104138568043709, accuracy: 0.5241999626159668\n",
      "Epoch 21, CIFAR-10 Batch 1:  cost: 0.006011622026562691, accuracy: 0.5309998989105225\n",
      "Epoch 22, CIFAR-10 Batch 1:  cost: 0.004491956904530525, accuracy: 0.5357999801635742\n",
      "Epoch 23, CIFAR-10 Batch 1:  cost: 0.006100426893681288, accuracy: 0.5317999124526978\n",
      "Epoch 24, CIFAR-10 Batch 1:  cost: 0.005734756123274565, accuracy: 0.5325999855995178\n",
      "Epoch 25, CIFAR-10 Batch 1:  cost: 0.0030003697611391544, accuracy: 0.5151999592781067\n",
      "Epoch 26, CIFAR-10 Batch 1:  cost: 0.006666946224868298, accuracy: 0.5193999409675598\n",
      "Epoch 27, CIFAR-10 Batch 1:  cost: 0.002438461408019066, accuracy: 0.5383999347686768\n",
      "Epoch 28, CIFAR-10 Batch 1:  cost: 0.005619388073682785, accuracy: 0.5349999666213989\n",
      "Epoch 29, CIFAR-10 Batch 1:  cost: 0.0013864028733223677, accuracy: 0.5261999368667603\n",
      "Epoch 30, CIFAR-10 Batch 1:  cost: 0.007065845187753439, accuracy: 0.5397999286651611\n",
      "Epoch 31, CIFAR-10 Batch 1:  cost: 0.0017328746616840363, accuracy: 0.5537998676300049\n",
      "Epoch 32, CIFAR-10 Batch 1:  cost: 0.0008561068098060787, accuracy: 0.5299999117851257\n",
      "Epoch 33, CIFAR-10 Batch 1:  cost: 0.0008543761796317995, accuracy: 0.5169999003410339\n",
      "Epoch 34, CIFAR-10 Batch 1:  cost: 0.005360214971005917, accuracy: 0.5195999145507812\n",
      "Epoch 35, CIFAR-10 Batch 1:  cost: 0.008349860087037086, accuracy: 0.5091999769210815\n",
      "Epoch 36, CIFAR-10 Batch 1:  cost: 0.006063542794436216, accuracy: 0.5339999198913574\n",
      "Epoch 37, CIFAR-10 Batch 1:  cost: 0.00612969184294343, accuracy: 0.524199903011322\n",
      "Epoch 38, CIFAR-10 Batch 1:  cost: 0.0017363566439598799, accuracy: 0.5393999218940735\n",
      "Epoch 39, CIFAR-10 Batch 1:  cost: 0.009845967404544353, accuracy: 0.5417999625205994\n",
      "Epoch 40, CIFAR-10 Batch 1:  cost: 0.003111039288341999, accuracy: 0.5331999659538269\n",
      "Epoch 41, CIFAR-10 Batch 1:  cost: 0.0008213730179704726, accuracy: 0.5361999273300171\n",
      "Epoch 42, CIFAR-10 Batch 1:  cost: 0.004177920054644346, accuracy: 0.5361999273300171\n",
      "Epoch 43, CIFAR-10 Batch 1:  cost: 0.0014478638768196106, accuracy: 0.5369999408721924\n",
      "Epoch 44, CIFAR-10 Batch 1:  cost: 0.0003830839123111218, accuracy: 0.5361999869346619\n",
      "Epoch 45, CIFAR-10 Batch 1:  cost: 0.0025854238774627447, accuracy: 0.5313999652862549\n",
      "Epoch 46, CIFAR-10 Batch 1:  cost: 0.0009662224329076707, accuracy: 0.5299999117851257\n",
      "Epoch 47, CIFAR-10 Batch 1:  cost: 0.00042757196933962405, accuracy: 0.5381999015808105\n",
      "Epoch 48, CIFAR-10 Batch 1:  cost: 0.002585320733487606, accuracy: 0.52239990234375\n",
      "Epoch 49, CIFAR-10 Batch 1:  cost: 0.0015570514369755983, accuracy: 0.5103999376296997\n",
      "Epoch 50, CIFAR-10 Batch 1:  cost: 0.001344864722341299, accuracy: 0.5371999740600586\n"
     ]
    }
   ],
   "source": [
    "\"\"\"\n",
    "DON'T MODIFY ANYTHING IN THIS CELL\n",
    "\"\"\"\n",
    "print('Checking the Training on a Single Batch...')\n",
    "with tf.Session() as sess:\n",
    "    # Initializing the variables\n",
    "    sess.run(tf.global_variables_initializer())\n",
    "    \n",
    "    # Training cycle\n",
    "    for epoch in range(epochs):\n",
    "        batch_i = 1\n",
    "        for batch_features, batch_labels in helper.load_preprocess_training_batch(batch_i, batch_size):\n",
    "            train_neural_network(sess, optimizer, keep_probability, batch_features, batch_labels)\n",
    "        print('Epoch {:>2}, CIFAR-10 Batch {}:  '.format(epoch + 1, batch_i), end='')\n",
    "        print_stats(sess, batch_features, batch_labels, cost, accuracy)"
   ]
  },
  {
   "cell_type": "code",
   "execution_count": 18,
   "metadata": {
    "collapsed": false
   },
   "outputs": [
    {
     "name": "stdout",
     "output_type": "stream",
     "text": [
      "Training...\n",
      "Epoch  1, CIFAR-10 Batch 1:  cost: 1.9518980979919434, accuracy: 0.33139997720718384\n",
      "Epoch  1, CIFAR-10 Batch 2:  cost: 1.4194775819778442, accuracy: 0.44679999351501465\n",
      "Epoch  1, CIFAR-10 Batch 3:  cost: 1.177060842514038, accuracy: 0.5121999979019165\n",
      "Epoch  1, CIFAR-10 Batch 4:  cost: 1.2601944208145142, accuracy: 0.5085999369621277\n",
      "Epoch  1, CIFAR-10 Batch 5:  cost: 1.1864583492279053, accuracy: 0.5679999589920044\n",
      "Epoch  2, CIFAR-10 Batch 1:  cost: 1.4636508226394653, accuracy: 0.5755998492240906\n",
      "Epoch  2, CIFAR-10 Batch 2:  cost: 1.0008339881896973, accuracy: 0.5797998905181885\n",
      "Epoch  2, CIFAR-10 Batch 3:  cost: 0.7916618585586548, accuracy: 0.6027998924255371\n",
      "Epoch  2, CIFAR-10 Batch 4:  cost: 0.8617904186248779, accuracy: 0.6187999248504639\n",
      "Epoch  2, CIFAR-10 Batch 5:  cost: 0.9458162784576416, accuracy: 0.6245999336242676\n",
      "Epoch  3, CIFAR-10 Batch 1:  cost: 0.9336293935775757, accuracy: 0.6315999031066895\n",
      "Epoch  3, CIFAR-10 Batch 2:  cost: 0.7002675533294678, accuracy: 0.6179999113082886\n",
      "Epoch  3, CIFAR-10 Batch 3:  cost: 0.5606712102890015, accuracy: 0.6277998685836792\n",
      "Epoch  3, CIFAR-10 Batch 4:  cost: 0.5170776844024658, accuracy: 0.6513998508453369\n",
      "Epoch  3, CIFAR-10 Batch 5:  cost: 0.5752509236335754, accuracy: 0.6453998684883118\n",
      "Epoch  4, CIFAR-10 Batch 1:  cost: 0.6883889436721802, accuracy: 0.6489998698234558\n",
      "Epoch  4, CIFAR-10 Batch 2:  cost: 0.5685368776321411, accuracy: 0.644399881362915\n",
      "Epoch  4, CIFAR-10 Batch 3:  cost: 0.3962309956550598, accuracy: 0.645599901676178\n",
      "Epoch  4, CIFAR-10 Batch 4:  cost: 0.39573773741722107, accuracy: 0.6683998703956604\n",
      "Epoch  4, CIFAR-10 Batch 5:  cost: 0.3439900875091553, accuracy: 0.6573998928070068\n",
      "Epoch  5, CIFAR-10 Batch 1:  cost: 0.5107980370521545, accuracy: 0.6643999218940735\n",
      "Epoch  5, CIFAR-10 Batch 2:  cost: 0.4627440273761749, accuracy: 0.6563999056816101\n",
      "Epoch  5, CIFAR-10 Batch 3:  cost: 0.2878219485282898, accuracy: 0.6511998772621155\n",
      "Epoch  5, CIFAR-10 Batch 4:  cost: 0.24379104375839233, accuracy: 0.6571999192237854\n",
      "Epoch  5, CIFAR-10 Batch 5:  cost: 0.2126956284046173, accuracy: 0.6675999164581299\n",
      "Epoch  6, CIFAR-10 Batch 1:  cost: 0.33764317631721497, accuracy: 0.6645998954772949\n",
      "Epoch  6, CIFAR-10 Batch 2:  cost: 0.26874637603759766, accuracy: 0.6663998961448669\n",
      "Epoch  6, CIFAR-10 Batch 3:  cost: 0.1785281002521515, accuracy: 0.6535998582839966\n",
      "Epoch  6, CIFAR-10 Batch 4:  cost: 0.19895419478416443, accuracy: 0.6705999374389648\n",
      "Epoch  6, CIFAR-10 Batch 5:  cost: 0.17737172544002533, accuracy: 0.657599925994873\n",
      "Epoch  7, CIFAR-10 Batch 1:  cost: 0.26800650358200073, accuracy: 0.6625998616218567\n",
      "Epoch  7, CIFAR-10 Batch 2:  cost: 0.18368080258369446, accuracy: 0.6555998921394348\n",
      "Epoch  7, CIFAR-10 Batch 3:  cost: 0.10110342502593994, accuracy: 0.6589998602867126\n",
      "Epoch  7, CIFAR-10 Batch 4:  cost: 0.14896832406520844, accuracy: 0.626599907875061\n",
      "Epoch  7, CIFAR-10 Batch 5:  cost: 0.10644103586673737, accuracy: 0.6587998867034912\n",
      "Epoch  8, CIFAR-10 Batch 1:  cost: 0.1372540444135666, accuracy: 0.6507998704910278\n",
      "Epoch  8, CIFAR-10 Batch 2:  cost: 0.14156006276607513, accuracy: 0.6411998867988586\n",
      "Epoch  8, CIFAR-10 Batch 3:  cost: 0.15260058641433716, accuracy: 0.6381998658180237\n",
      "Epoch  8, CIFAR-10 Batch 4:  cost: 0.08314191550016403, accuracy: 0.6409999132156372\n",
      "Epoch  8, CIFAR-10 Batch 5:  cost: 0.0574154332280159, accuracy: 0.6545998454093933\n",
      "Epoch  9, CIFAR-10 Batch 1:  cost: 0.0949459969997406, accuracy: 0.6731998920440674\n",
      "Epoch  9, CIFAR-10 Batch 2:  cost: 0.08975627273321152, accuracy: 0.6397998929023743\n",
      "Epoch  9, CIFAR-10 Batch 3:  cost: 0.0631052702665329, accuracy: 0.637199878692627\n",
      "Epoch  9, CIFAR-10 Batch 4:  cost: 0.1475580483675003, accuracy: 0.6397998332977295\n",
      "Epoch  9, CIFAR-10 Batch 5:  cost: 0.04222741723060608, accuracy: 0.6495999097824097\n",
      "Epoch 10, CIFAR-10 Batch 1:  cost: 0.10019021481275558, accuracy: 0.6547999382019043\n",
      "Epoch 10, CIFAR-10 Batch 2:  cost: 0.06888801604509354, accuracy: 0.6493998765945435\n",
      "Epoch 10, CIFAR-10 Batch 3:  cost: 0.0419062003493309, accuracy: 0.6445998549461365\n",
      "Epoch 10, CIFAR-10 Batch 4:  cost: 0.06634026020765305, accuracy: 0.6485998630523682\n",
      "Epoch 10, CIFAR-10 Batch 5:  cost: 0.08377920091152191, accuracy: 0.6395999193191528\n",
      "Epoch 11, CIFAR-10 Batch 1:  cost: 0.08026178926229477, accuracy: 0.6571998596191406\n",
      "Epoch 11, CIFAR-10 Batch 2:  cost: 0.020182421430945396, accuracy: 0.6499998569488525\n",
      "Epoch 11, CIFAR-10 Batch 3:  cost: 0.05543667823076248, accuracy: 0.650999903678894\n",
      "Epoch 11, CIFAR-10 Batch 4:  cost: 0.07128052413463593, accuracy: 0.644399881362915\n",
      "Epoch 11, CIFAR-10 Batch 5:  cost: 0.06004777178168297, accuracy: 0.6283999085426331\n",
      "Epoch 12, CIFAR-10 Batch 1:  cost: 0.04401582479476929, accuracy: 0.639799952507019\n",
      "Epoch 12, CIFAR-10 Batch 2:  cost: 0.01720166951417923, accuracy: 0.6519999504089355\n",
      "Epoch 12, CIFAR-10 Batch 3:  cost: 0.010711774230003357, accuracy: 0.6563998460769653\n",
      "Epoch 12, CIFAR-10 Batch 4:  cost: 0.03242265060544014, accuracy: 0.6353998780250549\n",
      "Epoch 12, CIFAR-10 Batch 5:  cost: 0.03382348641753197, accuracy: 0.6643998622894287\n",
      "Epoch 13, CIFAR-10 Batch 1:  cost: 0.028417419642210007, accuracy: 0.6611998677253723\n",
      "Epoch 13, CIFAR-10 Batch 2:  cost: 0.018303891643881798, accuracy: 0.6487999558448792\n",
      "Epoch 13, CIFAR-10 Batch 3:  cost: 0.015321540646255016, accuracy: 0.6589998602867126\n",
      "Epoch 13, CIFAR-10 Batch 4:  cost: 0.022670133039355278, accuracy: 0.6463999152183533\n",
      "Epoch 13, CIFAR-10 Batch 5:  cost: 0.015803206712007523, accuracy: 0.6551998853683472\n",
      "Epoch 14, CIFAR-10 Batch 1:  cost: 0.015214423649013042, accuracy: 0.6605998873710632\n",
      "Epoch 14, CIFAR-10 Batch 2:  cost: 0.010690064169466496, accuracy: 0.657599925994873\n",
      "Epoch 14, CIFAR-10 Batch 3:  cost: 0.014954810962080956, accuracy: 0.6543999314308167\n",
      "Epoch 14, CIFAR-10 Batch 4:  cost: 0.025082828477025032, accuracy: 0.6421999335289001\n",
      "Epoch 14, CIFAR-10 Batch 5:  cost: 0.01718604937195778, accuracy: 0.669999897480011\n",
      "Epoch 15, CIFAR-10 Batch 1:  cost: 0.011630008928477764, accuracy: 0.6541998386383057\n",
      "Epoch 15, CIFAR-10 Batch 2:  cost: 0.009975749999284744, accuracy: 0.6625999212265015\n",
      "Epoch 15, CIFAR-10 Batch 3:  cost: 0.004925190471112728, accuracy: 0.6493998765945435\n",
      "Epoch 15, CIFAR-10 Batch 4:  cost: 0.014662804082036018, accuracy: 0.6475998759269714\n",
      "Epoch 15, CIFAR-10 Batch 5:  cost: 0.021870773285627365, accuracy: 0.6627998948097229\n",
      "Epoch 16, CIFAR-10 Batch 1:  cost: 0.011361503042280674, accuracy: 0.6577999591827393\n",
      "Epoch 16, CIFAR-10 Batch 2:  cost: 0.010396751575171947, accuracy: 0.6745998859405518\n",
      "Epoch 16, CIFAR-10 Batch 3:  cost: 0.0024436493404209614, accuracy: 0.6563998460769653\n",
      "Epoch 16, CIFAR-10 Batch 4:  cost: 0.01384141854941845, accuracy: 0.6541999578475952\n",
      "Epoch 16, CIFAR-10 Batch 5:  cost: 0.013892386108636856, accuracy: 0.6553998589515686\n",
      "Epoch 17, CIFAR-10 Batch 1:  cost: 0.0045939283445477486, accuracy: 0.6647998690605164\n",
      "Epoch 17, CIFAR-10 Batch 2:  cost: 0.009597632102668285, accuracy: 0.6601998805999756\n",
      "Epoch 17, CIFAR-10 Batch 3:  cost: 0.01909974031150341, accuracy: 0.6349999308586121\n",
      "Epoch 17, CIFAR-10 Batch 4:  cost: 0.02246188372373581, accuracy: 0.6477999091148376\n",
      "Epoch 17, CIFAR-10 Batch 5:  cost: 0.0032047717832028866, accuracy: 0.6651998162269592\n",
      "Epoch 18, CIFAR-10 Batch 1:  cost: 0.001978744985535741, accuracy: 0.6605998873710632\n",
      "Epoch 18, CIFAR-10 Batch 2:  cost: 0.012458822689950466, accuracy: 0.6657998561859131\n",
      "Epoch 18, CIFAR-10 Batch 3:  cost: 0.005509643349796534, accuracy: 0.6535999178886414\n",
      "Epoch 18, CIFAR-10 Batch 4:  cost: 0.011331945657730103, accuracy: 0.6471999287605286\n",
      "Epoch 18, CIFAR-10 Batch 5:  cost: 0.003406813368201256, accuracy: 0.655799925327301\n",
      "Epoch 19, CIFAR-10 Batch 1:  cost: 0.005866405554115772, accuracy: 0.6647998690605164\n",
      "Epoch 19, CIFAR-10 Batch 2:  cost: 0.00636643823236227, accuracy: 0.663399875164032\n",
      "Epoch 19, CIFAR-10 Batch 3:  cost: 0.007226231507956982, accuracy: 0.6589999198913574\n",
      "Epoch 19, CIFAR-10 Batch 4:  cost: 0.00596970971673727, accuracy: 0.6591998338699341\n",
      "Epoch 19, CIFAR-10 Batch 5:  cost: 0.008507316932082176, accuracy: 0.6559998989105225\n",
      "Epoch 20, CIFAR-10 Batch 1:  cost: 0.0025716153904795647, accuracy: 0.6641998887062073\n",
      "Epoch 20, CIFAR-10 Batch 2:  cost: 0.0025803165044635534, accuracy: 0.6711998581886292\n",
      "Epoch 20, CIFAR-10 Batch 3:  cost: 0.005266027059406042, accuracy: 0.6577998399734497\n",
      "Epoch 20, CIFAR-10 Batch 4:  cost: 0.0081368088722229, accuracy: 0.6465998888015747\n",
      "Epoch 20, CIFAR-10 Batch 5:  cost: 0.006174786016345024, accuracy: 0.6577998995780945\n",
      "Epoch 21, CIFAR-10 Batch 1:  cost: 0.003179524326696992, accuracy: 0.6741999387741089\n",
      "Epoch 21, CIFAR-10 Batch 2:  cost: 0.005420597270131111, accuracy: 0.6545999050140381\n",
      "Epoch 21, CIFAR-10 Batch 3:  cost: 0.0047560497187078, accuracy: 0.6549999117851257\n",
      "Epoch 21, CIFAR-10 Batch 4:  cost: 0.004702011123299599, accuracy: 0.6409999132156372\n",
      "Epoch 21, CIFAR-10 Batch 5:  cost: 0.0010566439013928175, accuracy: 0.665199875831604\n",
      "Epoch 22, CIFAR-10 Batch 1:  cost: 0.006811327766627073, accuracy: 0.6689999103546143\n",
      "Epoch 22, CIFAR-10 Batch 2:  cost: 0.008069477044045925, accuracy: 0.6671998500823975\n",
      "Epoch 22, CIFAR-10 Batch 3:  cost: 0.0033073502127081156, accuracy: 0.6643998622894287\n",
      "Epoch 22, CIFAR-10 Batch 4:  cost: 0.014366254210472107, accuracy: 0.6631999015808105\n",
      "Epoch 22, CIFAR-10 Batch 5:  cost: 0.010978964157402515, accuracy: 0.6599998474121094\n",
      "Epoch 23, CIFAR-10 Batch 1:  cost: 0.004884554073214531, accuracy: 0.663599967956543\n",
      "Epoch 23, CIFAR-10 Batch 2:  cost: 0.002409081207588315, accuracy: 0.6571998596191406\n",
      "Epoch 23, CIFAR-10 Batch 3:  cost: 0.0012276703491806984, accuracy: 0.6661999225616455\n",
      "Epoch 23, CIFAR-10 Batch 4:  cost: 0.005680808797478676, accuracy: 0.6581999063491821\n",
      "Epoch 23, CIFAR-10 Batch 5:  cost: 0.004440381191670895, accuracy: 0.6703999042510986\n",
      "Epoch 24, CIFAR-10 Batch 1:  cost: 0.0075427149422466755, accuracy: 0.668799877166748\n",
      "Epoch 24, CIFAR-10 Batch 2:  cost: 0.0012909537181258202, accuracy: 0.6515999436378479\n",
      "Epoch 24, CIFAR-10 Batch 3:  cost: 0.0010733939707279205, accuracy: 0.6659998893737793\n",
      "Epoch 24, CIFAR-10 Batch 4:  cost: 0.0022190683521330357, accuracy: 0.6611998081207275\n",
      "Epoch 24, CIFAR-10 Batch 5:  cost: 0.004059771075844765, accuracy: 0.662199854850769\n",
      "Epoch 25, CIFAR-10 Batch 1:  cost: 0.012284569442272186, accuracy: 0.6693999171257019\n",
      "Epoch 25, CIFAR-10 Batch 2:  cost: 0.003410050645470619, accuracy: 0.6551998257637024\n",
      "Epoch 25, CIFAR-10 Batch 3:  cost: 0.012970693409442902, accuracy: 0.6673998832702637\n",
      "Epoch 25, CIFAR-10 Batch 4:  cost: 0.011270249262452126, accuracy: 0.6611999273300171\n",
      "Epoch 25, CIFAR-10 Batch 5:  cost: 0.0010348331416025758, accuracy: 0.6665998697280884\n",
      "Epoch 26, CIFAR-10 Batch 1:  cost: 0.007852192968130112, accuracy: 0.6649999022483826\n",
      "Epoch 26, CIFAR-10 Batch 2:  cost: 0.0062490287236869335, accuracy: 0.6547998785972595\n",
      "Epoch 26, CIFAR-10 Batch 3:  cost: 0.01445834245532751, accuracy: 0.6623998880386353\n",
      "Epoch 26, CIFAR-10 Batch 4:  cost: 0.0017860853113234043, accuracy: 0.6549999117851257\n",
      "Epoch 26, CIFAR-10 Batch 5:  cost: 0.007021109573543072, accuracy: 0.6411998867988586\n",
      "Epoch 27, CIFAR-10 Batch 1:  cost: 0.002104393905028701, accuracy: 0.6525998711585999\n",
      "Epoch 27, CIFAR-10 Batch 2:  cost: 0.0021147977095097303, accuracy: 0.6641998291015625\n",
      "Epoch 27, CIFAR-10 Batch 3:  cost: 0.002752745756879449, accuracy: 0.6601998805999756\n",
      "Epoch 27, CIFAR-10 Batch 4:  cost: 0.007957587949931622, accuracy: 0.6569998264312744\n",
      "Epoch 27, CIFAR-10 Batch 5:  cost: 0.0034997561015188694, accuracy: 0.662199854850769\n",
      "Epoch 28, CIFAR-10 Batch 1:  cost: 0.01436963863670826, accuracy: 0.6635998487472534\n",
      "Epoch 28, CIFAR-10 Batch 2:  cost: 0.00038787504308857024, accuracy: 0.6539998650550842\n",
      "Epoch 28, CIFAR-10 Batch 3:  cost: 0.0015961582539603114, accuracy: 0.669999897480011\n",
      "Epoch 28, CIFAR-10 Batch 4:  cost: 0.007691101636737585, accuracy: 0.6619998812675476\n",
      "Epoch 28, CIFAR-10 Batch 5:  cost: 0.0029305152129381895, accuracy: 0.649199903011322\n",
      "Epoch 29, CIFAR-10 Batch 1:  cost: 0.0037844462785869837, accuracy: 0.6537999510765076\n",
      "Epoch 29, CIFAR-10 Batch 2:  cost: 0.05737173184752464, accuracy: 0.6493998169898987\n",
      "Epoch 29, CIFAR-10 Batch 3:  cost: 0.014141594991087914, accuracy: 0.6641998887062073\n",
      "Epoch 29, CIFAR-10 Batch 4:  cost: 0.0015282470267266035, accuracy: 0.6501998901367188\n",
      "Epoch 29, CIFAR-10 Batch 5:  cost: 0.004232232924550772, accuracy: 0.651999831199646\n",
      "Epoch 30, CIFAR-10 Batch 1:  cost: 0.006183135323226452, accuracy: 0.6629998087882996\n",
      "Epoch 30, CIFAR-10 Batch 2:  cost: 0.025487715378403664, accuracy: 0.6597998142242432\n",
      "Epoch 30, CIFAR-10 Batch 3:  cost: 0.013182254508137703, accuracy: 0.6609998345375061\n",
      "Epoch 30, CIFAR-10 Batch 4:  cost: 0.017916394397616386, accuracy: 0.6421998739242554\n",
      "Epoch 30, CIFAR-10 Batch 5:  cost: 0.00048488995525985956, accuracy: 0.6469998955726624\n",
      "Epoch 31, CIFAR-10 Batch 1:  cost: 0.0009656689362600446, accuracy: 0.6685999631881714\n",
      "Epoch 31, CIFAR-10 Batch 2:  cost: 0.0007324135513044894, accuracy: 0.6517999172210693\n",
      "Epoch 31, CIFAR-10 Batch 3:  cost: 0.0020393412560224533, accuracy: 0.6645998358726501\n",
      "Epoch 31, CIFAR-10 Batch 4:  cost: 0.0012981751933693886, accuracy: 0.6559998989105225\n",
      "Epoch 31, CIFAR-10 Batch 5:  cost: 0.010932818986475468, accuracy: 0.6447998881340027\n",
      "Epoch 32, CIFAR-10 Batch 1:  cost: 0.000731731066480279, accuracy: 0.6661998629570007\n",
      "Epoch 32, CIFAR-10 Batch 2:  cost: 5.9239446272840723e-05, accuracy: 0.6659998893737793\n",
      "Epoch 32, CIFAR-10 Batch 3:  cost: 0.007339318748563528, accuracy: 0.6779999136924744\n",
      "Epoch 32, CIFAR-10 Batch 4:  cost: 0.005108817480504513, accuracy: 0.6511999368667603\n",
      "Epoch 32, CIFAR-10 Batch 5:  cost: 0.022694092243909836, accuracy: 0.6337999105453491\n",
      "Epoch 33, CIFAR-10 Batch 1:  cost: 0.024820635095238686, accuracy: 0.6759998798370361\n",
      "Epoch 33, CIFAR-10 Batch 2:  cost: 0.010197530500590801, accuracy: 0.6547998785972595\n",
      "Epoch 33, CIFAR-10 Batch 3:  cost: 0.0014754610601812601, accuracy: 0.663399875164032\n",
      "Epoch 33, CIFAR-10 Batch 4:  cost: 0.003962183371186256, accuracy: 0.6375998854637146\n",
      "Epoch 33, CIFAR-10 Batch 5:  cost: 0.0030100804287940264, accuracy: 0.6545999050140381\n",
      "Epoch 34, CIFAR-10 Batch 1:  cost: 0.002128040185198188, accuracy: 0.6597998738288879\n",
      "Epoch 34, CIFAR-10 Batch 2:  cost: 0.00014164956519380212, accuracy: 0.6611998677253723\n",
      "Epoch 34, CIFAR-10 Batch 3:  cost: 0.022057441994547844, accuracy: 0.6617999076843262\n",
      "Epoch 34, CIFAR-10 Batch 4:  cost: 0.0037103891372680664, accuracy: 0.6537998914718628\n",
      "Epoch 34, CIFAR-10 Batch 5:  cost: 0.0028592434246093035, accuracy: 0.6535998582839966\n",
      "Epoch 35, CIFAR-10 Batch 1:  cost: 0.008985812775790691, accuracy: 0.6613998413085938\n",
      "Epoch 35, CIFAR-10 Batch 2:  cost: 0.0007704438176006079, accuracy: 0.6537998914718628\n",
      "Epoch 35, CIFAR-10 Batch 3:  cost: 0.0043198284693062305, accuracy: 0.6553998589515686\n",
      "Epoch 35, CIFAR-10 Batch 4:  cost: 0.008488588966429234, accuracy: 0.6471999287605286\n",
      "Epoch 35, CIFAR-10 Batch 5:  cost: 0.0013480519410222769, accuracy: 0.6545998454093933\n",
      "Epoch 36, CIFAR-10 Batch 1:  cost: 0.01447210181504488, accuracy: 0.6683998703956604\n",
      "Epoch 36, CIFAR-10 Batch 2:  cost: 0.000594764540437609, accuracy: 0.6541998982429504\n",
      "Epoch 36, CIFAR-10 Batch 3:  cost: 0.001082786824554205, accuracy: 0.6707998514175415\n",
      "Epoch 36, CIFAR-10 Batch 4:  cost: 0.0038815338630229235, accuracy: 0.657599925994873\n",
      "Epoch 36, CIFAR-10 Batch 5:  cost: 0.011035948060452938, accuracy: 0.6613999009132385\n",
      "Epoch 37, CIFAR-10 Batch 1:  cost: 0.010507146827876568, accuracy: 0.6697999238967896\n",
      "Epoch 37, CIFAR-10 Batch 2:  cost: 0.018774311989545822, accuracy: 0.6667998433113098\n",
      "Epoch 37, CIFAR-10 Batch 3:  cost: 0.0007059324416331947, accuracy: 0.66159987449646\n",
      "Epoch 37, CIFAR-10 Batch 4:  cost: 0.0004745105979964137, accuracy: 0.6627998948097229\n",
      "Epoch 37, CIFAR-10 Batch 5:  cost: 0.0007045860984362662, accuracy: 0.6487998962402344\n",
      "Epoch 38, CIFAR-10 Batch 1:  cost: 0.0011339146876707673, accuracy: 0.6657998561859131\n",
      "Epoch 38, CIFAR-10 Batch 2:  cost: 0.0014083617134019732, accuracy: 0.6425999402999878\n",
      "Epoch 38, CIFAR-10 Batch 3:  cost: 0.0034039500169456005, accuracy: 0.6489999294281006\n",
      "Epoch 38, CIFAR-10 Batch 4:  cost: 0.0012712818570435047, accuracy: 0.65559983253479\n",
      "Epoch 38, CIFAR-10 Batch 5:  cost: 0.00157261174172163, accuracy: 0.6503998637199402\n",
      "Epoch 39, CIFAR-10 Batch 1:  cost: 0.020248563960194588, accuracy: 0.6751998662948608\n",
      "Epoch 39, CIFAR-10 Batch 2:  cost: 0.00249799364246428, accuracy: 0.6551998853683472\n",
      "Epoch 39, CIFAR-10 Batch 3:  cost: 0.0018826518207788467, accuracy: 0.660399854183197\n",
      "Epoch 39, CIFAR-10 Batch 4:  cost: 0.005105616059154272, accuracy: 0.675399899482727\n",
      "Epoch 39, CIFAR-10 Batch 5:  cost: 0.0004793634288944304, accuracy: 0.6591998934745789\n",
      "Epoch 40, CIFAR-10 Batch 1:  cost: 0.00034681946272030473, accuracy: 0.6677998900413513\n",
      "Epoch 40, CIFAR-10 Batch 2:  cost: 0.00015410015475936234, accuracy: 0.66159987449646\n",
      "Epoch 40, CIFAR-10 Batch 3:  cost: 0.0009197918698191643, accuracy: 0.6743998527526855\n",
      "Epoch 40, CIFAR-10 Batch 4:  cost: 0.008031112141907215, accuracy: 0.6607998609542847\n",
      "Epoch 40, CIFAR-10 Batch 5:  cost: 0.00022101675858721137, accuracy: 0.658799946308136\n",
      "Epoch 41, CIFAR-10 Batch 1:  cost: 0.001960317837074399, accuracy: 0.6723998785018921\n",
      "Epoch 41, CIFAR-10 Batch 2:  cost: 0.061191730201244354, accuracy: 0.6679998636245728\n",
      "Epoch 41, CIFAR-10 Batch 3:  cost: 0.0005098565015941858, accuracy: 0.6741999387741089\n",
      "Epoch 41, CIFAR-10 Batch 4:  cost: 0.003548121778294444, accuracy: 0.6507998704910278\n",
      "Epoch 41, CIFAR-10 Batch 5:  cost: 0.08297533541917801, accuracy: 0.6653999090194702\n",
      "Epoch 42, CIFAR-10 Batch 1:  cost: 0.0011697980808094144, accuracy: 0.6743999123573303\n",
      "Epoch 42, CIFAR-10 Batch 2:  cost: 0.0003493694239296019, accuracy: 0.6649998426437378\n",
      "Epoch 42, CIFAR-10 Batch 3:  cost: 0.001738766673952341, accuracy: 0.6725999116897583\n",
      "Epoch 42, CIFAR-10 Batch 4:  cost: 0.0022886227816343307, accuracy: 0.6555998921394348\n",
      "Epoch 42, CIFAR-10 Batch 5:  cost: 0.0001731862867018208, accuracy: 0.6653999090194702\n",
      "Epoch 43, CIFAR-10 Batch 1:  cost: 0.002775986911728978, accuracy: 0.6629998087882996\n",
      "Epoch 43, CIFAR-10 Batch 2:  cost: 0.0001340666931355372, accuracy: 0.6627998948097229\n",
      "Epoch 43, CIFAR-10 Batch 3:  cost: 0.0005487875314429402, accuracy: 0.6745998859405518\n",
      "Epoch 43, CIFAR-10 Batch 4:  cost: 0.0012526168720796704, accuracy: 0.6707998514175415\n",
      "Epoch 43, CIFAR-10 Batch 5:  cost: 0.0024929065257310867, accuracy: 0.6619998216629028\n",
      "Epoch 44, CIFAR-10 Batch 1:  cost: 0.0003493277763482183, accuracy: 0.6713999509811401\n",
      "Epoch 44, CIFAR-10 Batch 2:  cost: 0.0053294566459953785, accuracy: 0.6617999076843262\n",
      "Epoch 44, CIFAR-10 Batch 3:  cost: 0.0006404065061360598, accuracy: 0.6685998439788818\n",
      "Epoch 44, CIFAR-10 Batch 4:  cost: 0.0005420491797849536, accuracy: 0.6571999192237854\n",
      "Epoch 44, CIFAR-10 Batch 5:  cost: 0.002553005237132311, accuracy: 0.665199875831604\n",
      "Epoch 45, CIFAR-10 Batch 1:  cost: 0.0008892735932022333, accuracy: 0.6591998338699341\n",
      "Epoch 45, CIFAR-10 Batch 2:  cost: 0.0009210227290168405, accuracy: 0.6567999124526978\n",
      "Epoch 45, CIFAR-10 Batch 3:  cost: 0.011606532149016857, accuracy: 0.6597998738288879\n",
      "Epoch 45, CIFAR-10 Batch 4:  cost: 0.03304162248969078, accuracy: 0.6627998352050781\n",
      "Epoch 45, CIFAR-10 Batch 5:  cost: 7.734882819931954e-05, accuracy: 0.6629998683929443\n",
      "Epoch 46, CIFAR-10 Batch 1:  cost: 0.0066835214383900166, accuracy: 0.6757999062538147\n",
      "Epoch 46, CIFAR-10 Batch 2:  cost: 0.00014272720727603883, accuracy: 0.6655999422073364\n",
      "Epoch 46, CIFAR-10 Batch 3:  cost: 0.00019212618644814938, accuracy: 0.6627999544143677\n",
      "Epoch 46, CIFAR-10 Batch 4:  cost: 0.002365135122090578, accuracy: 0.6675998568534851\n",
      "Epoch 46, CIFAR-10 Batch 5:  cost: 0.01033201813697815, accuracy: 0.6653999090194702\n",
      "Epoch 47, CIFAR-10 Batch 1:  cost: 0.0055049145594239235, accuracy: 0.6597998738288879\n",
      "Epoch 47, CIFAR-10 Batch 2:  cost: 0.0017741215415298939, accuracy: 0.6637998819351196\n",
      "Epoch 47, CIFAR-10 Batch 3:  cost: 0.00030182101181708276, accuracy: 0.6641998887062073\n",
      "Epoch 47, CIFAR-10 Batch 4:  cost: 2.4791501346044242e-05, accuracy: 0.6659998893737793\n",
      "Epoch 47, CIFAR-10 Batch 5:  cost: 0.0011388544226065278, accuracy: 0.6655998826026917\n",
      "Epoch 48, CIFAR-10 Batch 1:  cost: 0.0015405650483444333, accuracy: 0.6699998378753662\n",
      "Epoch 48, CIFAR-10 Batch 2:  cost: 0.0017524707363918424, accuracy: 0.6701999306678772\n",
      "Epoch 48, CIFAR-10 Batch 3:  cost: 0.0003358632675372064, accuracy: 0.668199896812439\n",
      "Epoch 48, CIFAR-10 Batch 4:  cost: 0.003699188819155097, accuracy: 0.6635998487472534\n",
      "Epoch 48, CIFAR-10 Batch 5:  cost: 0.0019895145669579506, accuracy: 0.6709998250007629\n",
      "Epoch 49, CIFAR-10 Batch 1:  cost: 9.667120320955291e-05, accuracy: 0.672999918460846\n",
      "Epoch 49, CIFAR-10 Batch 2:  cost: 0.003155202604830265, accuracy: 0.6755998730659485\n",
      "Epoch 49, CIFAR-10 Batch 3:  cost: 3.586721504689194e-05, accuracy: 0.668799877166748\n",
      "Epoch 49, CIFAR-10 Batch 4:  cost: 0.010584192350506783, accuracy: 0.6619998812675476\n",
      "Epoch 49, CIFAR-10 Batch 5:  cost: 0.00026614879607222974, accuracy: 0.6685998439788818\n",
      "Epoch 50, CIFAR-10 Batch 1:  cost: 0.0021683380473405123, accuracy: 0.6591998338699341\n",
      "Epoch 50, CIFAR-10 Batch 2:  cost: 0.0009646620019339025, accuracy: 0.6645998954772949\n",
      "Epoch 50, CIFAR-10 Batch 3:  cost: 0.0013556878548115492, accuracy: 0.6679998636245728\n",
      "Epoch 50, CIFAR-10 Batch 4:  cost: 0.0011585864704102278, accuracy: 0.6591998338699341\n",
      "Epoch 50, CIFAR-10 Batch 5:  cost: 4.579790766001679e-05, accuracy: 0.6621999144554138\n"
     ]
    }
   ],
   "source": [
    "\"\"\"\n",
    "DON'T MODIFY ANYTHING IN THIS CELL\n",
    "\"\"\"\n",
    "save_model_path = './image_classification'\n",
    "\n",
    "print('Training...')\n",
    "with tf.Session() as sess:\n",
    "    # Initializing the variables\n",
    "    sess.run(tf.global_variables_initializer())\n",
    "    \n",
    "    # Training cycle\n",
    "    for epoch in range(epochs):\n",
    "        # Loop over all batches\n",
    "        n_batches = 5\n",
    "        for batch_i in range(1, n_batches + 1):\n",
    "            for batch_features, batch_labels in helper.load_preprocess_training_batch(batch_i, batch_size):\n",
    "                train_neural_network(sess, optimizer, keep_probability, batch_features, batch_labels)\n",
    "            print('Epoch {:>2}, CIFAR-10 Batch {}:  '.format(epoch + 1, batch_i), end='')\n",
    "            print_stats(sess, batch_features, batch_labels, cost, accuracy)\n",
    "            \n",
    "    # Save Model\n",
    "    saver = tf.train.Saver()\n",
    "    save_path = saver.save(sess, save_model_path)"
   ]
  },
  {
   "cell_type": "code",
   "execution_count": 19,
   "metadata": {
    "collapsed": false
   },
   "outputs": [
    {
     "name": "stdout",
     "output_type": "stream",
     "text": [
      "Testing Accuracy: 0.6626194267515924\n",
      "\n"
     ]
    },
    {
     "data": {
      "image/png": "[encoded data removed]",
      "text/plain": [
       "<matplotlib.figure.Figure at 0x7f64ae9faf28>"
      ]
     },
     "metadata": {
      "image/png": {
       "height": 319,
       "width": 349
      }
     },
     "output_type": "display_data"
    }
   ],
   "source": [
    "\"\"\"\n",
    "DON'T MODIFY ANYTHING IN THIS CELL\n",
    "\"\"\"\n",
    "%matplotlib inline\n",
    "%config InlineBackend.figure_format = 'retina'\n",
    "\n",
    "import tensorflow as tf\n",
    "import pickle\n",
    "import helper\n",
    "import random\n",
    "\n",
    "# Set batch size if not already set\n",
    "try:\n",
    "    if batch_size:\n",
    "        pass\n",
    "except NameError:\n",
    "    batch_size = 64\n",
    "\n",
    "save_model_path = './image_classification'\n",
    "n_samples = 4\n",
    "top_n_predictions = 3\n",
    "\n",
    "def test_model():\n",
    "    \"\"\"\n",
    "    Test the saved model against the test dataset\n",
    "    \"\"\"\n",
    "\n",
    "    test_features, test_labels = pickle.load(open('preprocess_test.p', mode='rb'))\n",
    "    loaded_graph = tf.Graph()\n",
    "\n",
    "    with tf.Session(graph=loaded_graph) as sess:\n",
    "        # Load model\n",
    "        loader = tf.train.import_meta_graph(save_model_path + '.meta')\n",
    "        loader.restore(sess, save_model_path)\n",
    "\n",
    "        # Get Tensors from loaded model\n",
    "        loaded_x = loaded_graph.get_tensor_by_name('x:0')\n",
    "        loaded_y = loaded_graph.get_tensor_by_name('y:0')\n",
    "        loaded_keep_prob = loaded_graph.get_tensor_by_name('keep_prob:0')\n",
    "        loaded_logits = loaded_graph.get_tensor_by_name('logits:0')\n",
    "        loaded_acc = loaded_graph.get_tensor_by_name('accuracy:0')\n",
    "        \n",
    "        # Get accuracy in batches for memory limitations\n",
    "        test_batch_acc_total = 0\n",
    "        test_batch_count = 0\n",
    "        \n",
    "        for test_feature_batch, test_label_batch in helper.batch_features_labels(test_features, test_labels, batch_size):\n",
    "            test_batch_acc_total += sess.run(\n",
    "                loaded_acc,\n",
    "                feed_dict={loaded_x: test_feature_batch, loaded_y: test_label_batch, loaded_keep_prob: 1.0})\n",
    "            test_batch_count += 1\n",
    "\n",
    "        print('Testing Accuracy: {}\\n'.format(test_batch_acc_total/test_batch_count))\n",
    "\n",
    "        # Print Random Samples\n",
    "        random_test_features, random_test_labels = tuple(zip(*random.sample(list(zip(test_features, test_labels)), n_samples)))\n",
    "        random_test_predictions = sess.run(\n",
    "            tf.nn.top_k(tf.nn.softmax(loaded_logits), top_n_predictions),\n",
    "            feed_dict={loaded_x: random_test_features, loaded_y: random_test_labels, loaded_keep_prob: 1.0})\n",
    "        helper.display_image_predictions(random_test_features, random_test_labels, random_test_predictions)\n",
    "\n",
    "\n",
    "test_model()"
   ]
  }
 ],
 "metadata": {
  "anaconda-cloud": {},
  "kernelspec": {
   "display_name": "Python 3",
   "language": "python",
   "name": "python3"
  },
  "language_info": {
   "codemirror_mode": {
    "name": "ipython",
    "version": 3
   },
   "file_extension": ".py",
   "mimetype": "text/x-python",
   "name": "python",
   "nbconvert_exporter": "python",
   "pygments_lexer": "ipython3",
   "version": "3.5.2"
  },
  "widgets": {
   "state": {},
   "version": "1.1.2"
  }
 },
 "nbformat": 4,
 "nbformat_minor": 0
}
