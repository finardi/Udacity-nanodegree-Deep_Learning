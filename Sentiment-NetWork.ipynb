{
 "cells": [
  {
   "cell_type": "code",
   "execution_count": 1,
   "metadata": {
    "ExecuteTime": {
     "end_time": "2017-04-21T09:06:39.209687",
     "start_time": "2017-04-21T09:06:37.908738"
    },
    "collapsed": true
   },
   "outputs": [],
   "source": [
    "from collections import Counter\n",
    "import numpy as np\n",
    "import time \n",
    "import sys"
   ]
  },
  {
   "cell_type": "code",
   "execution_count": 2,
   "metadata": {
    "ExecuteTime": {
     "end_time": "2017-04-21T09:06:39.784971",
     "start_time": "2017-04-21T09:06:39.211313"
    },
    "collapsed": false
   },
   "outputs": [],
   "source": [
    "# open file reviews\n",
    "with open('reviews.txt', 'r', encoding='utf-8') as rev:\n",
    "    reviews = list(map(lambda x: x[:-1], rev.readlines()))\n",
    "rev.close()\n",
    "\n",
    "# open file labels\n",
    "with open('labels.txt', 'r', encoding='utf-8') as lab:\n",
    "    labels = list(map(lambda x: x[:-1], lab.readlines()))\n",
    "lab.close()    \n",
    "    "
   ]
  },
  {
   "cell_type": "code",
   "execution_count": 3,
   "metadata": {
    "ExecuteTime": {
     "end_time": "2017-04-21T09:06:39.791342",
     "start_time": "2017-04-21T09:06:39.786688"
    },
    "collapsed": false
   },
   "outputs": [
    {
     "name": "stdout",
     "output_type": "stream",
     "text": [
      "len(reviews) 25000\n",
      "\n",
      "len(labels) 25000\n"
     ]
    }
   ],
   "source": [
    "print('len(reviews)',len(reviews))\n",
    "print('\\nlen(labels)',len(labels))"
   ]
  },
  {
   "cell_type": "code",
   "execution_count": 4,
   "metadata": {
    "ExecuteTime": {
     "end_time": "2017-04-21T09:06:40.059545",
     "start_time": "2017-04-21T09:06:39.794117"
    },
    "collapsed": false
   },
   "outputs": [
    {
     "name": "stdout",
     "output_type": "stream",
     "text": [
      "reviews[0]= bromwell high is a cartoon comedy . it ran at the same time as some other progra\n",
      "\n",
      "labels[0]= positive\n"
     ]
    }
   ],
   "source": [
    "print('reviews[0]=', reviews[0][:80])\n",
    "\n",
    "print('\\nlabels[0]=', labels[0])"
   ]
  },
  {
   "cell_type": "code",
   "execution_count": 5,
   "metadata": {
    "ExecuteTime": {
     "end_time": "2017-04-21T09:06:40.280305",
     "start_time": "2017-04-21T09:06:40.060993"
    },
    "collapsed": true
   },
   "outputs": [],
   "source": [
    "positive_counts = Counter()\n",
    "negative_counts = Counter()\n",
    "total_counts = Counter()"
   ]
  },
  {
   "cell_type": "code",
   "execution_count": 6,
   "metadata": {
    "ExecuteTime": {
     "end_time": "2017-04-21T09:06:50.069160",
     "start_time": "2017-04-21T09:06:40.282457"
    },
    "collapsed": false
   },
   "outputs": [],
   "source": [
    "for _ in range(len(reviews)):\n",
    "    if(labels[_]=='positive'):\n",
    "        for word in reviews[_].split(\" \"):\n",
    "            positive_counts[word] += 1\n",
    "            total_counts[word]    += 1\n",
    "    else:\n",
    "        for word in reviews[_].split(\" \"):\n",
    "            negative_counts[word] += 1\n",
    "            total_counts[word]    += 1\n",
    "            "
   ]
  },
  {
   "cell_type": "code",
   "execution_count": 7,
   "metadata": {
    "ExecuteTime": {
     "end_time": "2017-04-21T09:06:50.073870",
     "start_time": "2017-04-21T09:06:50.070780"
    },
    "collapsed": true
   },
   "outputs": [],
   "source": [
    "pos_neg_ratios = Counter()"
   ]
  },
  {
   "cell_type": "code",
   "execution_count": 8,
   "metadata": {
    "ExecuteTime": {
     "end_time": "2017-04-21T09:06:50.323287",
     "start_time": "2017-04-21T09:06:50.076615"
    },
    "collapsed": true
   },
   "outputs": [],
   "source": [
    "for term, cnt in list(total_counts.most_common()):\n",
    "    if(cnt > 100):\n",
    "        pos_neg_ratio = positive_counts[term] / float(negative_counts[term]+1)\n",
    "        pos_neg_ratios[term] = pos_neg_ratio\n",
    "\n",
    "for word, ratio in pos_neg_ratios.most_common():\n",
    "    if(ratio > 1):\n",
    "        pos_neg_ratios[word] = np.log(ratio)\n",
    "    else:\n",
    "        pos_neg_ratios[word] = -np.log((1 / (ratio+0.01)))\n",
    "    "
   ]
  },
  {
   "cell_type": "code",
   "execution_count": 9,
   "metadata": {
    "ExecuteTime": {
     "end_time": "2017-04-21T09:06:50.493303",
     "start_time": "2017-04-21T09:06:50.327727"
    },
    "collapsed": false
   },
   "outputs": [
    {
     "name": "stdout",
     "output_type": "stream",
     "text": [
      "vocab_size= 74074\n"
     ]
    }
   ],
   "source": [
    "vocab = set(total_counts.keys())\n",
    "vocab_size = len(vocab)\n",
    "print('vocab_size=', vocab_size)"
   ]
  },
  {
   "cell_type": "code",
   "execution_count": null,
   "metadata": {
    "collapsed": true
   },
   "outputs": [],
   "source": []
  },
  {
   "cell_type": "code",
   "execution_count": null,
   "metadata": {
    "collapsed": true
   },
   "outputs": [],
   "source": []
  },
  {
   "cell_type": "code",
   "execution_count": null,
   "metadata": {
    "collapsed": true
   },
   "outputs": [],
   "source": []
  },
  {
   "cell_type": "code",
   "execution_count": 10,
   "metadata": {
    "ExecuteTime": {
     "end_time": "2017-04-21T09:06:50.589872",
     "start_time": "2017-04-21T09:06:50.495137"
    },
    "collapsed": false
   },
   "outputs": [],
   "source": [
    "list(vocab)\n",
    "layer_0 = np.zeros((1,vocab_size))\n"
   ]
  },
  {
   "cell_type": "code",
   "execution_count": 11,
   "metadata": {
    "ExecuteTime": {
     "end_time": "2017-04-21T09:06:50.711881",
     "start_time": "2017-04-21T09:06:50.591911"
    },
    "collapsed": true
   },
   "outputs": [],
   "source": [
    "word2index = {}\n",
    "\n",
    "for i, word in enumerate(vocab):\n",
    "    word2index[word] = i"
   ]
  },
  {
   "cell_type": "code",
   "execution_count": 12,
   "metadata": {
    "ExecuteTime": {
     "end_time": "2017-04-21T09:06:50.808186",
     "start_time": "2017-04-21T09:06:50.713315"
    },
    "collapsed": true
   },
   "outputs": [],
   "source": [
    "def update_input_layer(review):\n",
    "    global layer_0\n",
    "    \n",
    "    #clear out previous state, reste the layer\n",
    "    layer_0 *= 0\n",
    "    for word in review.split(' '):\n",
    "        layer_0[0][word2index[word]] += 1\n",
    "\n",
    "update_input_layer(reviews[0])        "
   ]
  },
  {
   "cell_type": "code",
   "execution_count": 13,
   "metadata": {
    "ExecuteTime": {
     "end_time": "2017-04-21T09:06:50.897509",
     "start_time": "2017-04-21T09:06:50.810282"
    },
    "collapsed": true
   },
   "outputs": [],
   "source": [
    "def get_target_for_label(label):\n",
    "    if(label == 'positive'):\n",
    "        return 1\n",
    "    else:\n",
    "        return 0"
   ]
  },
  {
   "cell_type": "code",
   "execution_count": 33,
   "metadata": {
    "ExecuteTime": {
     "end_time": "2017-04-21T09:12:16.595160",
     "start_time": "2017-04-21T09:12:16.357499"
    },
    "collapsed": false
   },
   "outputs": [],
   "source": [
    "class SentimentNetwork:\n",
    "    def __init__(self, reviews, labels, hidden_nodes = 10, lr = 0.001):\n",
    "    \n",
    "        # set our random number generator\n",
    "        np.random.seed(1)\n",
    "        \n",
    "        self.pre_process_data(reviews, labels)\n",
    "        \n",
    "        self.init_network(len(self.review_vocab), hidden_nodes, 1, lr)\n",
    "        \n",
    "  \n",
    "    def pre_process_data(self, reviews, labels):\n",
    "        review_vocab = set()\n",
    "        for review in reviews:\n",
    "            for word in review.split(' '):\n",
    "                    review_vocab.add(word)\n",
    "        self.review_vocab = list(review_vocab)  \n",
    "        \n",
    "        label_vocab = set()\n",
    "        for label in labels:\n",
    "            label_vocab.add(label)\n",
    "        \n",
    "        self.label_vocab = list(label_vocab)\n",
    "        \n",
    "        self.review_vocab_size = len(self.review_vocab)\n",
    "        self.label_vocab_size  = len(self.label_vocab)\n",
    "        \n",
    "        self.word2index  = {}\n",
    "        for i, word in enumerate(self.review_vocab):\n",
    "            self.word2index[word]   = i\n",
    "        \n",
    "        self.label2index = {}\n",
    "        for i, label in enumerate(self.label_vocab):\n",
    "            self.label2index[label] = i\n",
    "\n",
    "                \n",
    "    def init_network(self, input_nodes, hidden_nodes, outpu_nodes, lr):\n",
    "        self.input_nodes  = input_nodes\n",
    "        self.hidden_nodes = hidden_nodes\n",
    "        self.outpu_nodes  = outpu_nodes\n",
    "        \n",
    "        # Initialize weights\n",
    "        self.W1 = np.zeros((self.input_nodes, self.hidden_nodes))\n",
    "        self.W2 = np.random.normal(0.0, self.outpu_nodes**-0.5, \n",
    "                                  (self.hidden_nodes, self.outpu_nodes))\n",
    "        \n",
    "        self.lr = lr\n",
    "        \n",
    "        self.layer_0 = np.zeros((1, input_nodes))\n",
    "        \n",
    "        \n",
    "    def update_input_layer(self, review):\n",
    "        # clear out previous state, reset the layer to be all 0s\n",
    "        self.layer_0 *= 0\n",
    "        for word in review.split(\" \"):\n",
    "            if(word in self.word2index.keys()):\n",
    "                self.layer_0[0][self.word2index[word]] = 1\n",
    "    \n",
    "    def get_target_for_label(self, label):\n",
    "        if(label == 'positive'):\n",
    "            return 1\n",
    "        else:\n",
    "            return 0\n",
    "    \n",
    "    def sigmoid(self, x, der = False):\n",
    "        if(der == True):\n",
    "            return x * (1 - x)\n",
    "        return 1.0 / (1.0 + np.exp(-x))\n",
    "    \n",
    "    def train(self, training_reviews, training_labels):\n",
    "        assert(len(training_reviews) == len(training_labels))\n",
    "    \n",
    "        correct_so_far = 0\n",
    "        \n",
    "        start = time.time()\n",
    "        \n",
    "        for i in range(len(training_reviews)):\n",
    "            review = training_reviews[i]\n",
    "            label  = training_labels[i]\n",
    "            \n",
    "            # Forward pass\n",
    "            self.update_input_layer(review)\n",
    "            layer_1 = self.layer_0.dot(self.W1)\n",
    "            layer_2 = self.sigmoid(layer_1.dot(self.W2))\n",
    "            \n",
    "            # Backward pass\n",
    "            \n",
    "            layer_2_error = layer_2 - self.get_target_for_label(label)\n",
    "            layer_2_delta = layer_2_error*self.sigmoid(layer_2, True)\n",
    "            \n",
    "            # Backpropagation error\n",
    "            layer_1_error = layer_2_delta.dot(self.W2.T)\n",
    "            # hidden layer gradients - no nonlinearity so it's the same as the error\n",
    "            layer_1_delta = layer_1_error\n",
    "            \n",
    "            # Update the weights\n",
    "            self.W2 -= layer_1.T.dot(layer_2_delta) * self.lr\n",
    "            self.W1 -= self.layer_0.T.dot(layer_1_delta) * self.lr\n",
    "            \n",
    "            if(np.abs(layer_2_error) < 0.5):\n",
    "                correct_so_far += 1\n",
    "                \n",
    "            reviews_per_second = i / float(time.time() - start)\n",
    "            \n",
    "            sys.stdout.write(\"\\rProgress:\" + str(100 * i/float(len(training_reviews)))[:4] + \"% Speed(reviews/sec):\" + str(reviews_per_second)[0:5] + \" #Correct:\" + str(correct_so_far) + \" #Trained:\" + str(i+1) + \" Training Accuracy:\" + str(correct_so_far * 100 / float(i+1))[:4] + \"%\")\n",
    "            if (i % 2500 ==  0):\n",
    "                print('')\n",
    "                \n",
    "                \n",
    "    def test(self, testing_reviews, testing_labels):\n",
    "        correct = 0\n",
    "        start = time.time()\n",
    "        \n",
    "        for i in range(len(testing_reviews)):\n",
    "            pred = self.run(testing_reviews[i])\n",
    "            if(pred == testing_labels[i]):\n",
    "                correct += 1\n",
    "            \n",
    "            reviews_per_second = i / float(time.time() - start)\n",
    "            \n",
    "            sys.stdout.write(\"\\rProgress:\" + str(100 * i/float(len(testing_reviews)))[:4] \\\n",
    "                             + \"% Speed(reviews/sec):\" + str(reviews_per_second)[0:5] \\\n",
    "                            + \"% #Correct:\" + str(correct) + \" #Tested:\" + str(i+1) + \" Testing Accuracy:\" + str(correct * 100 / float(i+1))[:4] + \"%\")\n",
    "    \n",
    "    def run(self, review):\n",
    "        \n",
    "        # Input Layer\n",
    "        self.update_input_layer(review.lower())\n",
    "\n",
    "        # Hidden layer\n",
    "        layer_1 = self.layer_0.dot(self.W1)\n",
    "\n",
    "        # Output layer\n",
    "        layer_2 = self.sigmoid(layer_1.dot(self.W2))\n",
    "        \n",
    "        if(layer_2[0] > 0.5):\n",
    "            return \"positive\"\n",
    "        else:\n",
    "            return \"negative\"     \n",
    "        "
   ]
  },
  {
   "cell_type": "code",
   "execution_count": 34,
   "metadata": {
    "ExecuteTime": {
     "end_time": "2017-04-21T09:12:31.740978",
     "start_time": "2017-04-21T09:12:30.041352"
    },
    "collapsed": false
   },
   "outputs": [],
   "source": [
    "# %%debug\n",
    "mlp = SentimentNetwork(reviews[:-1000],labels[:-1000], lr=0.001)"
   ]
  },
  {
   "cell_type": "code",
   "execution_count": 35,
   "metadata": {
    "ExecuteTime": {
     "end_time": "2017-04-21T09:16:08.976294",
     "start_time": "2017-04-21T09:12:33.627360"
    },
    "collapsed": false
   },
   "outputs": [
    {
     "name": "stdout",
     "output_type": "stream",
     "text": [
      "Progress:0.0% Speed(reviews/sec):0.0 #Correct:0 #Trained:1 Training Accuracy:0.0%\n",
      "Progress:10.4% Speed(reviews/sec):117.7 #Correct:1940 #Trained:2501 Training Accuracy:77.5%\n",
      "Progress:20.8% Speed(reviews/sec):114.0 #Correct:3987 #Trained:5001 Training Accuracy:79.7%\n",
      "Progress:31.2% Speed(reviews/sec):113.1 #Correct:6085 #Trained:7501 Training Accuracy:81.1%\n",
      "Progress:41.6% Speed(reviews/sec):112.8 #Correct:8204 #Trained:10001 Training Accuracy:82.0%\n",
      "Progress:52.0% Speed(reviews/sec):112.6 #Correct:10337 #Trained:12501 Training Accuracy:82.6%\n",
      "Progress:62.5% Speed(reviews/sec):111.5 #Correct:12423 #Trained:15001 Training Accuracy:82.8%\n",
      "Progress:72.9% Speed(reviews/sec):111.6 #Correct:14524 #Trained:17501 Training Accuracy:82.9%\n",
      "Progress:83.3% Speed(reviews/sec):111.5 #Correct:16697 #Trained:20001 Training Accuracy:83.4%\n",
      "Progress:93.7% Speed(reviews/sec):111.4 #Correct:18856 #Trained:22501 Training Accuracy:83.8%\n",
      "Progress:99.9% Speed(reviews/sec):111.4 #Correct:20172 #Trained:24000 Training Accuracy:84.0%"
     ]
    }
   ],
   "source": [
    "# %%debug\n",
    "\n",
    "mlp.train(reviews[:-1000],labels[:-1000])"
   ]
  },
  {
   "cell_type": "code",
   "execution_count": 17,
   "metadata": {
    "ExecuteTime": {
     "end_time": "2017-04-21T09:09:54.643546",
     "start_time": "2017-04-21T09:09:51.937869"
    },
    "collapsed": false
   },
   "outputs": [
    {
     "name": "stdout",
     "output_type": "stream",
     "text": [
      "Progress:99.9% Speed(reviews/sec):370.0% #Correct:500 #Tested:1000 Testing Accuracy:50.0%"
     ]
    }
   ],
   "source": [
    "# %%debug\n",
    "\n",
    "# evaluate our model before training (just to show how horrible it is)\n",
    "\n",
    "mlp.test(reviews[-1000:],labels[-1000:])"
   ]
  },
  {
   "cell_type": "code",
   "execution_count": null,
   "metadata": {
    "collapsed": true
   },
   "outputs": [],
   "source": []
  },
  {
   "cell_type": "code",
   "execution_count": null,
   "metadata": {
    "collapsed": true
   },
   "outputs": [],
   "source": []
  },
  {
   "cell_type": "code",
   "execution_count": null,
   "metadata": {
    "collapsed": true
   },
   "outputs": [],
   "source": []
  },
  {
   "cell_type": "code",
   "execution_count": null,
   "metadata": {
    "collapsed": true
   },
   "outputs": [],
   "source": []
  },
  {
   "cell_type": "code",
   "execution_count": null,
   "metadata": {
    "collapsed": true
   },
   "outputs": [],
   "source": []
  },
  {
   "cell_type": "code",
   "execution_count": null,
   "metadata": {
    "collapsed": true
   },
   "outputs": [],
   "source": []
  },
  {
   "cell_type": "code",
   "execution_count": null,
   "metadata": {
    "collapsed": true
   },
   "outputs": [],
   "source": []
  },
  {
   "cell_type": "code",
   "execution_count": null,
   "metadata": {
    "collapsed": true
   },
   "outputs": [],
   "source": []
  },
  {
   "cell_type": "code",
   "execution_count": null,
   "metadata": {
    "collapsed": true
   },
   "outputs": [],
   "source": []
  },
  {
   "cell_type": "code",
   "execution_count": null,
   "metadata": {
    "collapsed": true
   },
   "outputs": [],
   "source": []
  },
  {
   "cell_type": "code",
   "execution_count": null,
   "metadata": {
    "collapsed": true
   },
   "outputs": [],
   "source": []
  },
  {
   "cell_type": "code",
   "execution_count": null,
   "metadata": {
    "collapsed": true
   },
   "outputs": [],
   "source": []
  },
  {
   "cell_type": "code",
   "execution_count": null,
   "metadata": {
    "collapsed": true
   },
   "outputs": [],
   "source": []
  },
  {
   "cell_type": "code",
   "execution_count": null,
   "metadata": {
    "collapsed": true
   },
   "outputs": [],
   "source": []
  },
  {
   "cell_type": "code",
   "execution_count": null,
   "metadata": {
    "collapsed": true
   },
   "outputs": [],
   "source": []
  },
  {
   "cell_type": "code",
   "execution_count": null,
   "metadata": {
    "collapsed": true
   },
   "outputs": [],
   "source": []
  },
  {
   "cell_type": "code",
   "execution_count": null,
   "metadata": {
    "collapsed": true
   },
   "outputs": [],
   "source": []
  },
  {
   "cell_type": "code",
   "execution_count": null,
   "metadata": {
    "collapsed": true
   },
   "outputs": [],
   "source": []
  },
  {
   "cell_type": "code",
   "execution_count": null,
   "metadata": {
    "collapsed": true
   },
   "outputs": [],
   "source": []
  },
  {
   "cell_type": "code",
   "execution_count": null,
   "metadata": {
    "collapsed": true
   },
   "outputs": [],
   "source": []
  },
  {
   "cell_type": "code",
   "execution_count": null,
   "metadata": {
    "collapsed": true
   },
   "outputs": [],
   "source": []
  },
  {
   "cell_type": "code",
   "execution_count": 18,
   "metadata": {
    "ExecuteTime": {
     "end_time": "2017-04-21T09:09:54.660132",
     "start_time": "2017-04-21T09:09:54.648908"
    },
    "collapsed": false
   },
   "outputs": [
    {
     "name": "stdout",
     "output_type": "stream",
     "text": [
      "[1, 4, 9, 16, 25]\n"
     ]
    }
   ],
   "source": [
    "items = [1,2,3,4,5,]\n",
    "squared  = []\n",
    "\n",
    "for x in items:\n",
    "    squared.append(x**2)\n",
    "    \n",
    "print(squared)    "
   ]
  },
  {
   "cell_type": "code",
   "execution_count": 19,
   "metadata": {
    "ExecuteTime": {
     "end_time": "2017-04-21T09:09:54.781226",
     "start_time": "2017-04-21T09:09:54.666727"
    },
    "collapsed": false
   },
   "outputs": [
    {
     "name": "stdout",
     "output_type": "stream",
     "text": [
      "[1, 4, 9, 16, 25]\n"
     ]
    }
   ],
   "source": [
    "sqrt = list(map((lambda x: x**2), items))\n",
    "print(sqrt)"
   ]
  },
  {
   "cell_type": "code",
   "execution_count": null,
   "metadata": {
    "collapsed": true
   },
   "outputs": [],
   "source": []
  },
  {
   "cell_type": "code",
   "execution_count": 20,
   "metadata": {
    "ExecuteTime": {
     "end_time": "2017-04-21T09:09:54.899498",
     "start_time": "2017-04-21T09:09:54.783596"
    },
    "collapsed": false
   },
   "outputs": [
    {
     "data": {
      "text/plain": [
       "str"
      ]
     },
     "execution_count": 20,
     "metadata": {},
     "output_type": "execute_result"
    }
   ],
   "source": [
    "type(reviews[0])"
   ]
  },
  {
   "cell_type": "code",
   "execution_count": 21,
   "metadata": {
    "ExecuteTime": {
     "end_time": "2017-04-21T09:09:55.002165",
     "start_time": "2017-04-21T09:09:54.903081"
    },
    "collapsed": true
   },
   "outputs": [],
   "source": [
    "lista = [\"paulo paulo paulo\", \"eli eli eli eli\"]"
   ]
  },
  {
   "cell_type": "code",
   "execution_count": 22,
   "metadata": {
    "ExecuteTime": {
     "end_time": "2017-04-21T09:09:55.152089",
     "start_time": "2017-04-21T09:09:55.003736"
    },
    "collapsed": false
   },
   "outputs": [],
   "source": [
    "tot_count = Counter()"
   ]
  },
  {
   "cell_type": "code",
   "execution_count": 23,
   "metadata": {
    "ExecuteTime": {
     "end_time": "2017-04-21T09:09:55.271851",
     "start_time": "2017-04-21T09:09:55.154287"
    },
    "collapsed": false
   },
   "outputs": [
    {
     "data": {
      "text/plain": [
       "Counter({'eli': 4, 'paulo': 3})"
      ]
     },
     "execution_count": 23,
     "metadata": {},
     "output_type": "execute_result"
    }
   ],
   "source": [
    "for _ in range(len(lista)):\n",
    "    for word in lista[_].split(' '):\n",
    "        tot_count[word] += 1 \n",
    "        \n",
    "tot_count        "
   ]
  },
  {
   "cell_type": "code",
   "execution_count": 24,
   "metadata": {
    "ExecuteTime": {
     "end_time": "2017-04-21T09:09:55.368117",
     "start_time": "2017-04-21T09:09:55.273555"
    },
    "collapsed": false
   },
   "outputs": [
    {
     "name": "stdout",
     "output_type": "stream",
     "text": [
      "set(tot_count.keys()) =  {'paulo', 'eli'}\n",
      "vokab_size =  2\n"
     ]
    }
   ],
   "source": [
    "vokab = set(tot_count.keys())\n",
    "print('set(tot_count.keys()) = ', set(tot_count.keys()))\n",
    "vokab_size = len(vokab)\n",
    "print('vokab_size = ',vokab_size)\n",
    "\n"
   ]
  },
  {
   "cell_type": "code",
   "execution_count": 25,
   "metadata": {
    "ExecuteTime": {
     "end_time": "2017-04-21T09:09:55.468933",
     "start_time": "2017-04-21T09:09:55.369819"
    },
    "collapsed": false
   },
   "outputs": [
    {
     "name": "stdout",
     "output_type": "stream",
     "text": [
      "lay_0.shape= (1, 2)\n",
      "wrd2index= {'paulo': 0, 'eli': 1}\n"
     ]
    }
   ],
   "source": [
    "lay_0 = np.zeros((1,vokab_size))\n",
    "\n",
    "print('lay_0.shape=', lay_0.shape)\n",
    "\n",
    "\n",
    "wrd2index = {}\n",
    "\n",
    "for i, word in enumerate(vokab):\n",
    "    wrd2index[word] = i\n",
    "    \n",
    "print('wrd2index=', wrd2index)    "
   ]
  },
  {
   "cell_type": "code",
   "execution_count": 26,
   "metadata": {
    "ExecuteTime": {
     "end_time": "2017-04-21T09:09:55.569177",
     "start_time": "2017-04-21T09:09:55.470880"
    },
    "collapsed": false
   },
   "outputs": [
    {
     "data": {
      "text/plain": [
       "0.0"
      ]
     },
     "execution_count": 26,
     "metadata": {},
     "output_type": "execute_result"
    }
   ],
   "source": [
    "lay_0[0][1]"
   ]
  },
  {
   "cell_type": "code",
   "execution_count": 27,
   "metadata": {
    "ExecuteTime": {
     "end_time": "2017-04-21T09:09:55.824761",
     "start_time": "2017-04-21T09:09:55.571622"
    },
    "collapsed": false
   },
   "outputs": [
    {
     "name": "stdout",
     "output_type": "stream",
     "text": [
      "[[ 0  1  2  3  4  5  6  7  8  9 10 11]]\n"
     ]
    }
   ],
   "source": [
    "a = np.arange(12).reshape(1,12)\n",
    "\n",
    "print(a)\n"
   ]
  },
  {
   "cell_type": "code",
   "execution_count": 28,
   "metadata": {
    "ExecuteTime": {
     "end_time": "2017-04-21T09:09:55.867449",
     "start_time": "2017-04-21T09:09:55.826491"
    },
    "collapsed": false
   },
   "outputs": [
    {
     "data": {
      "text/plain": [
       "3"
      ]
     },
     "execution_count": 28,
     "metadata": {},
     "output_type": "execute_result"
    }
   ],
   "source": [
    "a[0][3]"
   ]
  },
  {
   "cell_type": "code",
   "execution_count": 29,
   "metadata": {
    "ExecuteTime": {
     "end_time": "2017-04-21T09:09:55.966442",
     "start_time": "2017-04-21T09:09:55.869346"
    },
    "collapsed": false
   },
   "outputs": [
    {
     "data": {
      "text/plain": [
       "{'eli': 1, 'paulo': 0}"
      ]
     },
     "execution_count": 29,
     "metadata": {},
     "output_type": "execute_result"
    }
   ],
   "source": [
    "wrd2index"
   ]
  },
  {
   "cell_type": "code",
   "execution_count": 30,
   "metadata": {
    "ExecuteTime": {
     "end_time": "2017-04-21T09:09:56.076793",
     "start_time": "2017-04-21T09:09:55.968489"
    },
    "collapsed": false
   },
   "outputs": [
    {
     "data": {
      "text/plain": [
       "1"
      ]
     },
     "execution_count": 30,
     "metadata": {},
     "output_type": "execute_result"
    }
   ],
   "source": [
    "wrd2index['eli']"
   ]
  },
  {
   "cell_type": "code",
   "execution_count": 31,
   "metadata": {
    "ExecuteTime": {
     "end_time": "2017-04-21T09:09:56.188086",
     "start_time": "2017-04-21T09:09:56.078554"
    },
    "collapsed": false
   },
   "outputs": [
    {
     "data": {
      "text/plain": [
       "['paulo', 'paulo', 'paulo']"
      ]
     },
     "execution_count": 31,
     "metadata": {},
     "output_type": "execute_result"
    }
   ],
   "source": [
    "lista[0].split(' ')"
   ]
  },
  {
   "cell_type": "code",
   "execution_count": null,
   "metadata": {
    "collapsed": true
   },
   "outputs": [],
   "source": []
  },
  {
   "cell_type": "code",
   "execution_count": 32,
   "metadata": {
    "ExecuteTime": {
     "end_time": "2017-04-21T09:09:56.288061",
     "start_time": "2017-04-21T09:09:56.190423"
    },
    "collapsed": false
   },
   "outputs": [
    {
     "data": {
      "text/plain": [
       "array([[ 3.,  0.]])"
      ]
     },
     "execution_count": 32,
     "metadata": {},
     "output_type": "execute_result"
    }
   ],
   "source": [
    "#clear out previous state, reste the layer\n",
    "lay_0 *= 0\n",
    "for word in lista[0].split(' '):\n",
    "    lay_0[0][wrd2index[word]] += 1\n",
    "    \n",
    "lay_0    \n",
    "\n"
   ]
  }
 ],
 "metadata": {
  "kernelspec": {
   "display_name": "Python 3",
   "language": "python",
   "name": "python3"
  },
  "language_info": {
   "codemirror_mode": {
    "name": "ipython",
    "version": 3
   },
   "file_extension": ".py",
   "mimetype": "text/x-python",
   "name": "python",
   "nbconvert_exporter": "python",
   "pygments_lexer": "ipython3",
   "version": "3.5.2"
  },
  "latex_envs": {
   "bibliofile": "biblio.bib",
   "cite_by": "apalike",
   "current_citInitial": 1,
   "eqLabelWithNumbers": true,
   "eqNumInitial": 0
  }
 },
 "nbformat": 4,
 "nbformat_minor": 1
}
